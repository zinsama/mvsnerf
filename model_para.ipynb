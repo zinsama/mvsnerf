{
 "cells": [
  {
   "cell_type": "code",
   "execution_count": 1,
   "metadata": {},
   "outputs": [],
   "source": [
    "import torch\n",
    "\n"
   ]
  },
  {
   "cell_type": "code",
   "execution_count": 2,
   "metadata": {},
   "outputs": [],
   "source": [
    "ck = torch.load('ckpts/mvsnerf-v0.tar')"
   ]
  },
  {
   "cell_type": "code",
   "execution_count": 4,
   "metadata": {},
   "outputs": [
    {
     "data": {
      "text/plain": [
       "dict_keys(['global_step', 'network_fn_state_dict', 'network_mvs_state_dict'])"
      ]
     },
     "execution_count": 4,
     "metadata": {},
     "output_type": "execute_result"
    }
   ],
   "source": [
    "ck.keys()"
   ]
  },
  {
   "cell_type": "code",
   "execution_count": 9,
   "metadata": {},
   "outputs": [
    {
     "data": {
      "text/plain": [
       "odict_keys(['nerf.pts_linears.0.weight', 'nerf.pts_linears.0.bias', 'nerf.pts_linears.1.weight', 'nerf.pts_linears.1.bias', 'nerf.pts_linears.2.weight', 'nerf.pts_linears.2.bias', 'nerf.pts_linears.3.weight', 'nerf.pts_linears.3.bias', 'nerf.pts_linears.4.weight', 'nerf.pts_linears.4.bias', 'nerf.pts_linears.5.weight', 'nerf.pts_linears.5.bias', 'nerf.pts_bias.weight', 'nerf.pts_bias.bias', 'nerf.views_linears.0.weight', 'nerf.views_linears.0.bias', 'nerf.feature_linear.weight', 'nerf.feature_linear.bias', 'nerf.alpha_linear.weight', 'nerf.alpha_linear.bias', 'nerf.rgb_linear.weight', 'nerf.rgb_linear.bias'])"
      ]
     },
     "execution_count": 9,
     "metadata": {},
     "output_type": "execute_result"
    }
   ],
   "source": [
    "ck['network_fn_state_dict'].keys()\n",
    "#network_mvs_state_dict: encodingnet/ mvsnet\n",
    "#mvsnet: featurenet(2dcnn), costregnet(3dcnn)\n",
    "#network_fn_state_dict"
   ]
  },
  {
   "cell_type": "code",
   "execution_count": null,
   "metadata": {},
   "outputs": [],
   "source": []
  }
 ],
 "metadata": {
  "interpreter": {
   "hash": "4397e1df7c8b9b2c9851829679238a21936ce3162fb54f0ce1032741e438ca0f"
  },
  "kernelspec": {
   "display_name": "Python 3.8.12 ('pnerf2')",
   "language": "python",
   "name": "python3"
  },
  "language_info": {
   "codemirror_mode": {
    "name": "ipython",
    "version": 3
   },
   "file_extension": ".py",
   "mimetype": "text/x-python",
   "name": "python",
   "nbconvert_exporter": "python",
   "pygments_lexer": "ipython3",
   "version": "3.8.12"
  },
  "orig_nbformat": 4
 },
 "nbformat": 4,
 "nbformat_minor": 2
}
